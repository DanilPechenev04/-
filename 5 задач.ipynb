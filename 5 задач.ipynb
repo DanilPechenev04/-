{
 "cells": [
  {
   "cell_type": "code",
   "execution_count": null,
   "metadata": {},
   "outputs": [],
   "source": [
    "#Задача №1\n",
    "n = int(input()) #Решим задачу в общем виде. В данном случае n = 1000.\n",
    "s = 0\n",
    "for i in range(n):\n",
    "    if i % 3 == 0 or i % 5 == 0:\n",
    "        s += i\n",
    "print(s)"
   ]
  },
  {
   "cell_type": "code",
   "execution_count": null,
   "metadata": {},
   "outputs": [],
   "source": [
    "#Задача №2\n",
    "n = int(input()) #Решим задачу в общем виде. числа ряда не могут превышать n, в данном случае введем 4000000.\n",
    "x = 1 #предпоследнее число исходной последовательности\n",
    "y = 2 #последнее число исходной последовательности\n",
    "z = 0 #следующий член последовательности (условно пока что 0)\n",
    "s = 2 #сумма. Сразу включим в неё число 2 (y)\n",
    "while z <= n:\n",
    "    z = x + y\n",
    "    if z % 2 == 0:\n",
    "        s += z\n",
    "    x, y = y, z\n",
    "print(s)"
   ]
  },
  {
   "cell_type": "code",
   "execution_count": null,
   "metadata": {},
   "outputs": [],
   "source": [
    "#Задача №3\n",
    "n = int(input()) #в общем виде. В данном случае в n будет введено 600851475143\n",
    "d = 0\n",
    "for i in range(int(n**0.5), 1, -1):\n",
    "    if n % i == 0:\n",
    "        for j in range(1, i):\n",
    "            if i % j == 0:\n",
    "                d += 1\n",
    "            else:\n",
    "                d = d\n",
    "        if d == 1:\n",
    "            print(i)\n",
    "            break\n",
    "        else:\n",
    "            d = 0\n",
    "    else:\n",
    "        continue"
   ]
  },
  {
   "cell_type": "code",
   "execution_count": null,
   "metadata": {},
   "outputs": [],
   "source": [
    "#Задача №4\n",
    "    "
   ]
  },
  {
   "cell_type": "code",
   "execution_count": 1,
   "metadata": {},
   "outputs": [
    {
     "name": "stdout",
     "output_type": "stream",
     "text": [
      "232792560\n"
     ]
    }
   ],
   "source": [
    "#Задача № 5\n",
    "print(19*16*9*5*7*11*13*17)"
   ]
  },
  {
   "cell_type": "code",
   "execution_count": null,
   "metadata": {},
   "outputs": [],
   "source": []
  }
 ],
 "metadata": {
  "kernelspec": {
   "display_name": "Python 3",
   "language": "python",
   "name": "python3"
  },
  "language_info": {
   "codemirror_mode": {
    "name": "ipython",
    "version": 3
   },
   "file_extension": ".py",
   "mimetype": "text/x-python",
   "name": "python",
   "nbconvert_exporter": "python",
   "pygments_lexer": "ipython3",
   "version": "3.6.5"
  }
 },
 "nbformat": 4,
 "nbformat_minor": 2
}
